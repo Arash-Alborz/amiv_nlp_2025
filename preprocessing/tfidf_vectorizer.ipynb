{
 "cells": [
  {
   "cell_type": "code",
   "execution_count": 1,
   "id": "950d6477",
   "metadata": {},
   "outputs": [
    {
     "name": "stdout",
     "output_type": "stream",
     "text": [
      "Number of authors: 1568\n",
      "Labels shape: (1568, 5)\n",
      "TF-IDF features shape: (1568, 5000)\n",
      "Saved TF-IDF data to /Users/arashalborz/Desktop/Data/tfidf_author_data.csv\n"
     ]
    }
   ],
   "source": [
    "'''\n",
    "************************************************************************************************\n",
    "************************************************************************************************\n",
    "Script for making TF-IDF vectors \n",
    "** IMPORTANT: This is for jason, not csv --> only for training (filtered_pandora)\n",
    "\n",
    "*** You can play with max_features: 1000/5000/1000 (I wouldn't go more than 5000)\n",
    "\n",
    "INPUT: change path to your filtered_pandora in input_folder\n",
    "OUTPUT (\"tfidf_author_data.csv\"): will take the input_folder/ input_path to save the output\n",
    "\n",
    "************************************************************************************************\n",
    "************************************************************************************************\n",
    "\n",
    "'''\n",
    "\n",
    "import os\n",
    "import json\n",
    "import numpy as np\n",
    "import pandas as pd\n",
    "from sklearn.feature_extraction.text import TfidfVectorizer\n",
    "\n",
    "input_filename = \"filtered_pandora.json\"\n",
    "input_folder = os.path.dirname(\"/Users/arashalborz/Desktop/Data/filtered_pandora.json\") # change path\n",
    "input_path = os.path.join(input_folder, input_filename)\n",
    "save_path = os.path.join(input_folder, \"tfidf_author_data.csv\")\n",
    "\n",
    "with open(input_path, \"r\", encoding=\"utf-8\") as f:\n",
    "    data = json.load(f)\n",
    "\n",
    "\n",
    "texts = []  \n",
    "labels = []   \n",
    "author_ids = [] \n",
    "\n",
    "for author in data[\"authors\"]:\n",
    "    author_id = author[\"id\"]\n",
    "    author_ids.append(author_id)\n",
    "    \n",
    "    comments = author.get(\"comments\", [])\n",
    "\n",
    "    full_text = \" \".join(comments)\n",
    "    texts.append(full_text)\n",
    "    \n",
    "    # the big five traits\n",
    "    trait_scores = [\n",
    "        author[\"labels\"][\"openness\"],\n",
    "        author[\"labels\"][\"conscientiousness\"],\n",
    "        author[\"labels\"][\"extraversion\"],\n",
    "        author[\"labels\"][\"agreeableness\"],\n",
    "        author[\"labels\"][\"neuroticism\"]\n",
    "    ]\n",
    "    labels.append(trait_scores)\n",
    "\n",
    "labels = np.array(labels)  \n",
    "\n",
    "print(\"Number of authors:\", len(texts))\n",
    "print(\"Labels shape:\", labels.shape)\n",
    "\n",
    "\n",
    "vectorizer = TfidfVectorizer(max_features=5000) \n",
    "\n",
    "X = vectorizer.fit_transform(texts).toarray()  \n",
    "\n",
    "print(\"TF-IDF features shape:\", X.shape)\n",
    "\n",
    "\n",
    "\n",
    "df = pd.DataFrame(X)\n",
    "df[\"openness\"] = labels[:, 0]\n",
    "df[\"conscientiousness\"] = labels[:, 1]\n",
    "df[\"extraversion\"] = labels[:, 2]\n",
    "df[\"agreeableness\"] = labels[:, 3]\n",
    "df[\"neuroticism\"] = labels[:, 4]\n",
    "df[\"author_id\"] = author_ids\n",
    "\n",
    "df.to_csv(save_path, index=False)\n",
    "print(f\"Saved TF-IDF data to {save_path}\")"
   ]
  },
  {
   "cell_type": "code",
   "execution_count": 5,
   "id": "9dbb6000",
   "metadata": {},
   "outputs": [
    {
     "data": {
      "text/plain": [
       "Index(['0', '1', '2', '3', '4', '5', '6', '7', '8', '9',\n",
       "       ...\n",
       "       '4996', '4997', '4998', '4999', 'openness', 'conscientiousness',\n",
       "       'extraversion', 'agreeableness', 'neuroticism', 'author_id'],\n",
       "      dtype='object', length=5006)"
      ]
     },
     "execution_count": 5,
     "metadata": {},
     "output_type": "execute_result"
    }
   ],
   "source": [
    "df = pd.read_csv(\"/Users/arashalborz/Desktop/Data/tfidf_author_data1.csv\")\n",
    "df.columns"
   ]
  }
 ],
 "metadata": {
  "kernelspec": {
   "display_name": "amiv_nlp_2025",
   "language": "python",
   "name": "python3"
  },
  "language_info": {
   "codemirror_mode": {
    "name": "ipython",
    "version": 3
   },
   "file_extension": ".py",
   "mimetype": "text/x-python",
   "name": "python",
   "nbconvert_exporter": "python",
   "pygments_lexer": "ipython3",
   "version": "3.9.21"
  }
 },
 "nbformat": 4,
 "nbformat_minor": 5
}
