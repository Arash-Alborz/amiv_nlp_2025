{
 "cells": [
  {
   "cell_type": "markdown",
   "id": "cce614c3",
   "metadata": {},
   "source": [
    "### Concatenating Synthetic data with the train data"
   ]
  },
  {
   "cell_type": "code",
   "execution_count": null,
   "id": "3c0b047d-44fb-4333-a669-0dfb37345d43",
   "metadata": {},
   "outputs": [],
   "source": [
    "import pandas as pd\n",
    "\n",
    "df1 = pd.read_csv('file1.csv')  # this has 5 columns\n",
    "df2 = pd.read_csv('file2.csv')  # this has 3 columns\n",
    "\n",
    "combined_df = pd.concat([df1, df2], axis=1)\n",
    "\n",
    "combined_df.to_csv('combined_file.csv', index=False)"
   ]
  },
  {
   "cell_type": "code",
   "execution_count": null,
   "id": "1f423777",
   "metadata": {},
   "outputs": [],
   "source": [
    "import json\n",
    "import random\n",
    "\n",
    "with open('data/filtered_pandora_all.json', 'r', encoding='utf-8') as f:\n",
    "    data = json.load(f)\n",
    "\n",
    "sampled_authors = random.sample(data['authors'], 700)\n",
    "\n",
    "filtered_pandora_small = {'authors': sampled_authors}\n",
    "\n",
    "with open('filtered_pandora_small.json', 'w', encoding='utf-8') as f:\n",
    "    json.dump(filtered_pandora_small, f, ensure_ascii=False, indent=2)\n",
    "\n",
    "print(\"Sampled 700 authors and saved to 'filtered_pandora_small.json'\")\n"
   ]
  },
  {
   "cell_type": "code",
   "execution_count": null,
   "id": "5136323c-600c-42dc-b644-43d5fb8e9f30",
   "metadata": {},
   "outputs": [],
   "source": [
    "\n",
    "import pandas as pd\n",
    "import json\n",
    "import random\n",
    "\n",
    "csv_file = 'synthetic_val_data.csv'  \n",
    "output_file = 'filtered_pandora_small.json'   \n",
    "\n",
    "df = pd.read_csv(csv_file)\n",
    "\n",
    "id_column = 'id'\n",
    "comment_columns = ['Q1', 'Q2', 'Q3']  \n",
    "trait_columns = ['Openness', 'Conscientiousness', 'Extraversion', 'Agreeableness', 'Emotional stability']\n",
    "\n",
    "json_list = []\n",
    "\n",
    "for _, row in df.iterrows():\n",
    "    entry = {\n",
    "        \"id\": str(row[id_column]),\n",
    "        \"labels\": {trait: row[trait] for trait in trait_columns},\n",
    "        \"comments\": [str(row[col]) for col in comment_columns if pd.notna(row[col])]\n",
    "    }\n",
    "    json_list.append(entry)\n",
    "\n",
    "random.shuffle(json_list)\n",
    "\n",
    "with open(output_file, 'a', encoding='utf-8') as f:\n",
    "    json.dump(json_list, f, indent=2, ensure_ascii=False)"
   ]
  },
  {
   "cell_type": "code",
   "execution_count": null,
   "id": "cbf8d808",
   "metadata": {},
   "outputs": [],
   "source": [
    "\n",
    "\n",
    "csv_file = 'synthetic_val_data.csv'  \n",
    "output_file = 'filtered_pandora_small.json'  \n",
    "\n",
    "df = pd.read_csv(csv_file)\n",
    "\n",
    "id_column = 'id'\n",
    "comment_columns = ['Q1', 'Q2', 'Q3'] \n",
    "trait_columns = ['Openness', 'Conscientiousness', 'Extraversion', 'Agreeableness', 'Emotional stability']\n",
    "\n",
    "json_list = []\n",
    "\n",
    "for _, row in df.iterrows():\n",
    "    entry = {\n",
    "        \"id\": str(row[id_column]),\n",
    "        \"labels\": {trait: row[trait] for trait in trait_columns},\n",
    "        \"comments\": [str(row[col]) for col in comment_columns if pd.notna(row[col])]\n",
    "    }\n",
    "    json_list.append(entry)\n",
    "\n",
    "\n",
    "with open(output_file, 'a', encoding='utf-8') as f:\n",
    "    json.dump(json_list, f, indent=2, ensure_ascii=False)\n"
   ]
  },
  {
   "cell_type": "code",
   "execution_count": null,
   "id": "9de49e96",
   "metadata": {},
   "outputs": [],
   "source": [
    "import pandas as pd\n",
    "import json\n",
    "\n",
    "csv_file = 'synthetic_val_data_labeled.csv' \n",
    "original_json_file = 'filtered_pandora.json'  \n",
    "output_file = 'filtered_pandora_merged.json'\n",
    "\n",
    "df = pd.read_csv(csv_file)\n",
    "with open(original_json_file, 'r', encoding='utf-8') as f:\n",
    "    original_data = json.load(f)\n",
    "\n",
    "comment_columns = ['Q1', 'Q2', 'Q3']\n",
    "trait_columns = ['Openness', 'Conscientiousness', 'Extraversion', 'Agreeableness', 'Emotional Stability', 'Humility']\n",
    "\n",
    "synthetic_authors = []\n",
    "\n",
    "for _, row in df.iterrows():\n",
    "    author_entry = {\n",
    "        \"id\": str(row[\"id\"]),\n",
    "        \"labels\": {\n",
    "            \"openness\": row[\"Openness\"].lower(),\n",
    "            \"conscientiousness\": row[\"Conscientiousness\"].lower(),\n",
    "            \"extraversion\": row[\"Extraversion\"].lower(),\n",
    "            \"agreeableness\": row[\"Agreeableness\"].lower(),\n",
    "            \"emotional_stability\": row[\"Emotional Stability\"].lower(),\n",
    "            \"humility\": row[\"Humility\"].lower()\n",
    "        },\n",
    "        \"comments\": [str(row[c]) for c in comment_columns if pd.notna(row[c])]\n",
    "    }\n",
    "    synthetic_authors.append(author_entry)\n",
    "\n",
    "merged_data = {\n",
    "    \"authors\": original_data[\"authors\"] + synthetic_authors\n",
    "}\n",
    "\n",
    "with open(output_file, 'w', encoding='utf-8') as f:\n",
    "    json.dump(merged_data, f, indent=2, ensure_ascii=False)"
   ]
  }
 ],
 "metadata": {
  "kernelspec": {
   "display_name": "base",
   "language": "python",
   "name": "python3"
  },
  "language_info": {
   "codemirror_mode": {
    "name": "ipython",
    "version": 3
   },
   "file_extension": ".py",
   "mimetype": "text/x-python",
   "name": "python",
   "nbconvert_exporter": "python",
   "pygments_lexer": "ipython3",
   "version": "3.12.2"
  }
 },
 "nbformat": 4,
 "nbformat_minor": 5
}
