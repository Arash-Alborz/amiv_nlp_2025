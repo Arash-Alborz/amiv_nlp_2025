{
 "cells": [
  {
   "cell_type": "code",
   "execution_count": null,
   "id": "3c0b047d-44fb-4333-a669-0dfb37345d43",
   "metadata": {},
   "outputs": [],
   "source": [
    "# concatenation of csv files\n",
    "\n",
    "import pandas as pd\n",
    "\n",
    "# Load both CSV files\n",
    "df1 = pd.read_csv('file1.csv')  # This has 5 columns\n",
    "df2 = pd.read_csv('file2.csv')  # This has 3 columns\n",
    "\n",
    "# Combine the two dataframes side-by-side\n",
    "combined_df = pd.concat([df1, df2], axis=1)\n",
    "\n",
    "# Save to a new CSV file\n",
    "combined_df.to_csv('combined_file.csv', index=False)"
   ]
  },
  {
   "cell_type": "code",
   "execution_count": 29,
   "id": "1f423777",
   "metadata": {},
   "outputs": [
    {
     "name": "stdout",
     "output_type": "stream",
     "text": [
      "Sampled 700 authors and saved to 'filtered_pandora_small.json'\n"
     ]
    }
   ],
   "source": [
    "import json\n",
    "import random\n",
    "\n",
    "# Load your JSON data\n",
    "with open('data/filtered_pandora_all.json', 'r', encoding='utf-8') as f:\n",
    "    data = json.load(f)\n",
    "\n",
    "# Randomly sample 700 authors\n",
    "sampled_authors = random.sample(data['authors'], 700)\n",
    "\n",
    "# Save to new JSON\n",
    "filtered_pandora_small = {'authors': sampled_authors}\n",
    "\n",
    "with open('filtered_pandora_small.json', 'w', encoding='utf-8') as f:\n",
    "    json.dump(filtered_pandora_small, f, ensure_ascii=False, indent=2)\n",
    "\n",
    "print(\"Sampled 700 authors and saved to 'filtered_pandora_small.json'\")\n"
   ]
  },
  {
   "cell_type": "code",
   "execution_count": 26,
   "id": "5136323c-600c-42dc-b644-43d5fb8e9f30",
   "metadata": {},
   "outputs": [
    {
     "name": "stdout",
     "output_type": "stream",
     "text": [
      "✅ JSON file created: filtered_pandora_small.json\n"
     ]
    }
   ],
   "source": [
    "# add csv to filtered_pandora.json\n",
    "\n",
    "import pandas as pd\n",
    "import json\n",
    "import random\n",
    "\n",
    "# === CONFIG ===\n",
    "csv_file = 'synthetic_val_data.csv'       # Replace with your CSV filename\n",
    "output_file = 'filtered_pandora_small.json'      # Output JSON filename\n",
    "\n",
    "# === LOAD CSV ===\n",
    "df = pd.read_csv(csv_file)\n",
    "\n",
    "# === DEFINE COLUMNS ===\n",
    "id_column = 'id'\n",
    "comment_columns = ['Q1', 'Q2', 'Q3']  # Change if yours are named differently\n",
    "trait_columns = ['Openness', 'Conscientiousness', 'Extraversion', 'Agreeableness', 'Emotional stability']\n",
    "\n",
    "# === CONVERT EACH ROW TO JSON OBJECT ===\n",
    "json_list = []\n",
    "\n",
    "for _, row in df.iterrows():\n",
    "    entry = {\n",
    "        \"id\": str(row[id_column]),\n",
    "        \"labels\": {trait: row[trait] for trait in trait_columns},\n",
    "        \"comments\": [str(row[col]) for col in comment_columns if pd.notna(row[col])]\n",
    "    }\n",
    "    json_list.append(entry)\n",
    "\n",
    "random.shuffle(json_list)\n",
    "\n",
    "# === WRITE TO JSON FILE ===\n",
    "with open(output_file, 'a', encoding='utf-8') as f:\n",
    "    json.dump(json_list, f, indent=2, ensure_ascii=False)\n",
    "\n",
    "print(f\"✅ JSON file created: {output_file}\")"
   ]
  },
  {
   "cell_type": "code",
   "execution_count": 30,
   "id": "cbf8d808",
   "metadata": {},
   "outputs": [
    {
     "name": "stdout",
     "output_type": "stream",
     "text": [
      "✅ JSON file created: filtered_pandora_small.json\n"
     ]
    }
   ],
   "source": [
    "\n",
    "# === CONFIG ===\n",
    "csv_file = 'synthetic_val_data.csv'       # Replace with your CSV filename\n",
    "output_file = 'filtered_pandora_small.json'      # Output JSON filename\n",
    "\n",
    "# === LOAD CSV ===\n",
    "df = pd.read_csv(csv_file)\n",
    "\n",
    "# === DEFINE COLUMNS ===\n",
    "id_column = 'id'\n",
    "comment_columns = ['Q1', 'Q2', 'Q3']  # Change if yours are named differently\n",
    "trait_columns = ['Openness', 'Conscientiousness', 'Extraversion', 'Agreeableness', 'Emotional stability']\n",
    "\n",
    "# === CONVERT EACH ROW TO JSON OBJECT ===\n",
    "json_list = []\n",
    "\n",
    "for _, row in df.iterrows():\n",
    "    entry = {\n",
    "        \"id\": str(row[id_column]),\n",
    "        \"labels\": {trait: row[trait] for trait in trait_columns},\n",
    "        \"comments\": [str(row[col]) for col in comment_columns if pd.notna(row[col])]\n",
    "    }\n",
    "    json_list.append(entry)\n",
    "\n",
    "\n",
    "# === WRITE TO JSON FILE ===\n",
    "with open(output_file, 'a', encoding='utf-8') as f:\n",
    "    json.dump(json_list, f, indent=2, ensure_ascii=False)\n",
    "\n",
    "print(f\"✅ JSON file created: {output_file}\")"
   ]
  },
  {
   "cell_type": "code",
   "execution_count": null,
   "id": "9de49e96",
   "metadata": {},
   "outputs": [],
   "source": [
    "import pandas as pd\n",
    "import json\n",
    "\n",
    "# === CONFIG ===\n",
    "csv_file = 'synthetic_val_data_labeled.csv'       # Your labeled synthetic data\n",
    "original_json_file = 'filtered_pandora.json'      # Original Reddit training data\n",
    "output_file = 'filtered_pandora_merged.json'      # Final merged output\n",
    "\n",
    "# === LOAD DATA ===\n",
    "df = pd.read_csv(csv_file)\n",
    "with open(original_json_file, 'r', encoding='utf-8') as f:\n",
    "    original_data = json.load(f)\n",
    "\n",
    "# === DEFINE COLUMNS ===\n",
    "comment_columns = ['Q1', 'Q2', 'Q3']\n",
    "trait_columns = ['Openness', 'Conscientiousness', 'Extraversion', 'Agreeableness', 'Emotional Stability', 'Humility']\n",
    "\n",
    "# === CONVERT SYNTHETIC ROWS ===\n",
    "synthetic_authors = []\n",
    "\n",
    "for _, row in df.iterrows():\n",
    "    author_entry = {\n",
    "        \"id\": str(row[\"id\"]),\n",
    "        \"labels\": {\n",
    "            \"openness\": row[\"Openness\"].lower(),\n",
    "            \"conscientiousness\": row[\"Conscientiousness\"].lower(),\n",
    "            \"extraversion\": row[\"Extraversion\"].lower(),\n",
    "            \"agreeableness\": row[\"Agreeableness\"].lower(),\n",
    "            \"emotional_stability\": row[\"Emotional Stability\"].lower(),\n",
    "            \"humility\": row[\"Humility\"].lower()\n",
    "        },\n",
    "        \"comments\": [str(row[c]) for c in comment_columns if pd.notna(row[c])]\n",
    "    }\n",
    "    synthetic_authors.append(author_entry)\n",
    "\n",
    "# === MERGE & SAVE ===\n",
    "merged_data = {\n",
    "    \"authors\": original_data[\"authors\"] + synthetic_authors\n",
    "}\n",
    "\n",
    "with open(output_file, 'w', encoding='utf-8') as f:\n",
    "    json.dump(merged_data, f, indent=2, ensure_ascii=False)\n",
    "\n",
    "print(f\"✅ Merged JSON saved to: {output_file}\")"
   ]
  }
 ],
 "metadata": {
  "kernelspec": {
   "display_name": "base",
   "language": "python",
   "name": "python3"
  },
  "language_info": {
   "codemirror_mode": {
    "name": "ipython",
    "version": 3
   },
   "file_extension": ".py",
   "mimetype": "text/x-python",
   "name": "python",
   "nbconvert_exporter": "python",
   "pygments_lexer": "ipython3",
   "version": "3.12.2"
  }
 },
 "nbformat": 4,
 "nbformat_minor": 5
}
