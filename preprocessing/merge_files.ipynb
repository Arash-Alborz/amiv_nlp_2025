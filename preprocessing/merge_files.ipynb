{
 "cells": [
  {
   "cell_type": "code",
   "execution_count": null,
   "id": "3c0b047d-44fb-4333-a669-0dfb37345d43",
   "metadata": {},
   "outputs": [],
   "source": [
    "# concatenation of csv files\n",
    "\n",
    "import pandas as pd\n",
    "\n",
    "# Load both CSV files\n",
    "df1 = pd.read_csv('file1.csv')  # This has 5 columns\n",
    "df2 = pd.read_csv('file2.csv')  # This has 3 columns\n",
    "\n",
    "# Combine the two dataframes side-by-side\n",
    "combined_df = pd.concat([df1, df2], axis=1)\n",
    "\n",
    "# Save to a new CSV file\n",
    "combined_df.to_csv('combined_file.csv', index=False)"
   ]
  },
  {
   "cell_type": "code",
   "execution_count": null,
   "id": "5136323c-600c-42dc-b644-43d5fb8e9f30",
   "metadata": {},
   "outputs": [
    {
     "name": "stdout",
     "output_type": "stream",
     "text": [
      "✅ JSON file created: data/filtered_pandora_test.json\n"
     ]
    }
   ],
   "source": [
    "# add csv to filtered_pandora.json\n",
    "\n",
    "import pandas as pd\n",
    "import json\n",
    "\n",
    "# === CONFIG ===\n",
    "csv_file = 'data/val_data.csv'       # Replace with your CSV filename\n",
    "output_file = 'data/filtered_pandora_test.json'      # Output JSON filename\n",
    "\n",
    "# === LOAD CSV ===\n",
    "df = pd.read_csv(csv_file)\n",
    "\n",
    "# === DEFINE COLUMNS ===\n",
    "id_column = 'id'\n",
    "comment_columns = ['Q1', 'Q2', 'Q3']  # Change if yours are named differently\n",
    "trait_columns = ['Openness', 'Conscientiousness', 'Extraversion', 'Agreeableness', 'Emotional stability']\n",
    "\n",
    "# === CONVERT EACH ROW TO JSON OBJECT ===\n",
    "json_list = []\n",
    "\n",
    "for _, row in df.iterrows():\n",
    "    entry = {\n",
    "        \"id\": str(row[id_column]),\n",
    "        \"labels\": {trait: row[trait] for trait in trait_columns},\n",
    "        \"comments\": [str(row[col]) for col in comment_columns if pd.notna(row[col])]\n",
    "    }\n",
    "    json_list.append(entry)\n",
    "\n",
    "# === WRITE TO JSON FILE ===\n",
    "with open(output_file, 'a', encoding='utf-8') as f:\n",
    "    json.dump(json_list, f, indent=2, ensure_ascii=False)"
   ]
  }
 ],
 "metadata": {
  "kernelspec": {
   "display_name": "Python 3 (ipykernel)",
   "language": "python",
   "name": "python3"
  },
  "language_info": {
   "codemirror_mode": {
    "name": "ipython",
    "version": 3
   },
   "file_extension": ".py",
   "mimetype": "text/x-python",
   "name": "python",
   "nbconvert_exporter": "python",
   "pygments_lexer": "ipython3",
   "version": "3.12.2"
  }
 },
 "nbformat": 4,
 "nbformat_minor": 5
}
