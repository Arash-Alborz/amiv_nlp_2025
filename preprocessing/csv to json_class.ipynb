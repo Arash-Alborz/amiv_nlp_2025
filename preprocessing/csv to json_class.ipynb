{
 "cells": [
  {
   "cell_type": "code",
   "execution_count": 17,
   "id": "b04d317f-9462-4fe6-b304-22779579924e",
   "metadata": {},
   "outputs": [],
   "source": [
    "import csv\n",
    "import json\n",
    "\n",
    "# Input and output file paths\n",
    "csv_file_path = '../data/val_data.csv'\n",
    "json_file_path = '../data/val_data.json'"
   ]
  },
  {
   "cell_type": "code",
   "execution_count": 35,
   "id": "717039b1-cd90-4aab-8bd6-c31bd21b5583",
   "metadata": {},
   "outputs": [],
   "source": [
    "with open(csv_file_path, mode='r', encoding='utf-8') as csv_file:\n",
    "    reader = csv.DictReader(csv_file)\n",
    "    all_fields = reader.fieldnames\n",
    "\n",
    "    if all_fields is None or len(all_fields) < 8:\n",
    "        raise ValueError(\"CSV does not contain at least 8 columns.\")\n",
    "\n",
    "    last_9 = all_fields[-9:-1]\n",
    "    comment_fields = last_9[:3]\n",
    "    label_fields = last_9[3:]\n",
    "\n",
    "    result = []\n",
    "    for row in reader:\n",
    "        comments = [row[field] for field in comment_fields if row[field].strip()]\n",
    "        labels = {}\n",
    "        for field in label_fields:\n",
    "            value = row[field].strip()\n",
    "            if value:\n",
    "                key = \"Neuroticism\" if field == \"Emotional stability\" else field\n",
    "                labels[key] = value\n",
    "\n",
    "        result.append({\n",
    "            \"labels\": labels,\n",
    "            \"comments\": comments\n",
    "        })"
   ]
  },
  {
   "cell_type": "code",
   "execution_count": 37,
   "id": "187882ab-978b-493e-9b5c-598dfd53a5ca",
   "metadata": {},
   "outputs": [
    {
     "name": "stdout",
     "output_type": "stream",
     "text": [
      "Formatted JSON saved to ../data/val_data.json\n"
     ]
    }
   ],
   "source": [
    "with open(json_file_path, mode='w', encoding='utf-8') as json_file:\n",
    "    json.dump(result, json_file, indent=4)\n",
    "\n",
    "print(f\"Formatted JSON saved to {json_file_path}\")"
   ]
  },
  {
   "cell_type": "code",
   "execution_count": null,
   "id": "40caded8-9926-41fa-86e1-55d90f57f727",
   "metadata": {},
   "outputs": [],
   "source": []
  }
 ],
 "metadata": {
  "kernelspec": {
   "display_name": "Python 3 (ipykernel)",
   "language": "python",
   "name": "python3"
  },
  "language_info": {
   "codemirror_mode": {
    "name": "ipython",
    "version": 3
   },
   "file_extension": ".py",
   "mimetype": "text/x-python",
   "name": "python",
   "nbconvert_exporter": "python",
   "pygments_lexer": "ipython3",
   "version": "3.12.2"
  }
 },
 "nbformat": 4,
 "nbformat_minor": 5
}
