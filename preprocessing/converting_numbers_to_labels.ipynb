{
 "cells": [
  {
   "cell_type": "code",
   "execution_count": null,
   "id": "ecee4b52",
   "metadata": {},
   "outputs": [],
   "source": [
    "import json\n",
    "\n",
    "def bin_score(score):\n",
    "    score *= 100  # Convert from 0–1 to 0–100\n",
    "    if score <= 32:\n",
    "        return \"Low\"\n",
    "    elif score <= 66:\n",
    "        return \"Medium\"\n",
    "    else:\n",
    "        return \"High\"\n",
    "\n",
    "input_path = \"../filtered_pandora.json\" # path to pandora data\n",
    "with open(input_path, \"r\", encoding=\"utf-8\") as f:\n",
    "    data = json.load(f)\n",
    "\n",
    "for author in data[\"authors\"]:\n",
    "    scores = author[\"labels\"]\n",
    "    author[\"labels\"] = {\n",
    "        \"openness\": bin_score(scores[\"openness\"]),\n",
    "        \"conscientiousness\": bin_score(scores[\"conscientiousness\"]),\n",
    "        \"extraversion\": bin_score(scores[\"extraversion\"]),\n",
    "        \"agreeableness\": bin_score(scores[\"agreeableness\"]),\n",
    "        \"emotional_stability\": bin_score(scores[\"emotional_stability\"]),\n",
    "    }\n",
    "\n",
    "output_path = \"../filtered_pandora_labeled_final.json\" # output path\n",
    "with open(output_path, \"w\", encoding=\"utf-8\") as f:\n",
    "    json.dump(data, f, indent=2, ensure_ascii=False)"
   ]
  },
  {
   "cell_type": "code",
   "execution_count": null,
   "id": "d705b8b3",
   "metadata": {},
   "outputs": [],
   "source": [
    "import pandas as pd\n",
    "\n",
    "def bin_score(score):\n",
    "    if score <= 32:\n",
    "        return \"Low\"\n",
    "    elif score <= 66:\n",
    "        return \"Medium\"\n",
    "    else:\n",
    "        return \"High\"\n",
    "\n",
    "val_path = \"../processed_data/val_embeddings_with_liwc.csv\"\n",
    "val_df = pd.read_csv(val_path)\n",
    "\n",
    "traits = [\"openness\", \"conscientiousness\", \"extraversion\", \"agreeableness\", \"neuroticism\"]\n",
    "\n",
    "for trait in traits:\n",
    "    val_df[trait] = val_df[trait].apply(bin_score)\n",
    "\n",
    "output_path = \"/Users/arashalborz/Desktop/amiv_nlp_2025/processed_data/val_embeddings_with_liwc_labeled.csv\"\n",
    "val_df.to_csv(output_path, index=False)"
   ]
  }
 ],
 "metadata": {
  "kernelspec": {
   "display_name": "amiv_nlp_2025",
   "language": "python",
   "name": "python3"
  },
  "language_info": {
   "codemirror_mode": {
    "name": "ipython",
    "version": 3
   },
   "file_extension": ".py",
   "mimetype": "text/x-python",
   "name": "python",
   "nbconvert_exporter": "python",
   "pygments_lexer": "ipython3",
   "version": "3.9.21"
  }
 },
 "nbformat": 4,
 "nbformat_minor": 5
}
