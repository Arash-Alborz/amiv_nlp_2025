{
 "cells": [
  {
   "cell_type": "code",
   "execution_count": 12,
   "id": "b04d317f-9462-4fe6-b304-22779579924e",
   "metadata": {},
   "outputs": [],
   "source": [
    "import csv\n",
    "import json\n",
    "\n",
    "# Input and output file paths\n",
    "csv_file_path = '/Users/imanvandevelde/Documents/natural language processing/amiv_nlp_2025/data/val_data.csv'\n",
    "json_file_path = '/Users/imanvandevelde/Documents/natural language processing/amiv_nlp_2025/data/val_data.json'"
   ]
  },
  {
   "cell_type": "code",
   "execution_count": 13,
   "id": "717039b1-cd90-4aab-8bd6-c31bd21b5583",
   "metadata": {},
   "outputs": [],
   "source": [
    "with open(csv_file_path, mode='r', encoding='utf-8') as csv_file:\n",
    "    reader = csv.DictReader(csv_file)\n",
    "    all_fields = reader.fieldnames\n",
    "\n",
    "    if all_fields is None or len(all_fields) < 8:\n",
    "        raise ValueError(\"CSV does not contain at least 8 columns.\")\n",
    "\n",
    "    last_9 = all_fields[-9:-1]\n",
    "    comment_fields = last_9[:3]\n",
    "    label_fields = last_9[3:]\n",
    "\n",
    "    result = []\n",
    "    for row in reader:\n",
    "        comments = [row[field] for field in comment_fields if row[field].strip()]\n",
    "        labels = {}\n",
    "        for field in label_fields:\n",
    "            value = row[field].strip()\n",
    "            if value:\n",
    "                key = \"Neuroticism\" if field == \"Emotional stability\" else field\n",
    "                labels[key] = value\n",
    "\n",
    "        result.append({\n",
    "            \"labels\": labels,\n",
    "            \"comments\": comments\n",
    "        })"
   ]
  },
  {
   "cell_type": "code",
   "execution_count": 14,
   "id": "187882ab-978b-493e-9b5c-598dfd53a5ca",
   "metadata": {},
   "outputs": [
    {
     "name": "stdout",
     "output_type": "stream",
     "text": [
      "Formatted JSON saved to /Users/imanvandevelde/Documents/natural language processing/amiv_nlp_2025/data/val_data.json\n"
     ]
    }
   ],
   "source": [
    "with open(json_file_path, mode='w', encoding='utf-8') as json_file:\n",
    "    json.dump(result, json_file, indent=4)\n",
    "\n",
    "print(f\"Formatted JSON saved to {json_file_path}\")"
   ]
  },
  {
   "cell_type": "code",
   "execution_count": 7,
   "id": "2ead9e0e",
   "metadata": {},
   "outputs": [],
   "source": [
    "import json\n",
    "\n",
    "# Load the JSON file\n",
    "with open('data/filtered_pandora.json', 'r') as f:\n",
    "    data = json.load(f)\n",
    "\n",
    "def truncate(value, decimals=2):\n",
    "    factor = 10 ** decimals\n",
    "    return int(value * factor) / factor\n",
    "\n",
    "# Transform each author's neuroticism into emotional_stability\n",
    "for author in data.get('authors', []):\n",
    "    labels = author.get('labels', {})\n",
    "    if 'neuroticism' in labels:\n",
    "        try:\n",
    "            neuro_val = float(labels['neuroticism'])\n",
    "            emotional_stability = truncate((1 - neuro_val),2)\n",
    "            labels['emotional_stability'] = emotional_stability\n",
    "            del labels['neuroticism']\n",
    "        except (ValueError, TypeError):\n",
    "            pass  # handle or log invalid values if necessary\n",
    "\n",
    "# Save the modified data\n",
    "with open('data/filtered_pandora_neuro.json', 'w') as f:\n",
    "    json.dump(data, f, indent=2)\n"
   ]
  },
  {
   "cell_type": "code",
   "execution_count": null,
   "id": "4c149c48",
   "metadata": {},
   "outputs": [],
   "source": []
  }
 ],
 "metadata": {
  "kernelspec": {
   "display_name": "base",
   "language": "python",
   "name": "python3"
  },
  "language_info": {
   "codemirror_mode": {
    "name": "ipython",
    "version": 3
   },
   "file_extension": ".py",
   "mimetype": "text/x-python",
   "name": "python",
   "nbconvert_exporter": "python",
   "pygments_lexer": "ipython3",
   "version": "3.12.2"
  }
 },
 "nbformat": 4,
 "nbformat_minor": 5
}
