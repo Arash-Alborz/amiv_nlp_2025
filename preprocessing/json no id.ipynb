{
 "cells": [
  {
   "cell_type": "code",
   "execution_count": 1,
   "id": "9f370f9d-392e-4408-816b-2e5049a1bca1",
   "metadata": {},
   "outputs": [
    {
     "name": "stdout",
     "output_type": "stream",
     "text": [
      "Removed 'id' keys and saved to output.json\n"
     ]
    }
   ],
   "source": [
    "import json\n",
    "\n",
    "# Load the existing JSON file\n",
    "with open('data/filtered_pandora.json', 'r', encoding='utf-8') as f:\n",
    "    data = json.load(f)\n",
    "\n",
    "# Remove the 'id' key from each author\n",
    "for author in data.get('authors', []):\n",
    "    author.pop('id', None)  # Removes 'id' if it exists\n",
    "\n",
    "# Save the updated JSON\n",
    "with open('output.json', 'w', encoding='utf-8') as f:\n",
    "    json.dump(data, f, indent=4)\n",
    "\n",
    "print(\"Removed 'id' keys and saved to output.json\")"
   ]
  }
 ],
 "metadata": {
  "kernelspec": {
   "display_name": "Python 3 (ipykernel)",
   "language": "python",
   "name": "python3"
  },
  "language_info": {
   "codemirror_mode": {
    "name": "ipython",
    "version": 3
   },
   "file_extension": ".py",
   "mimetype": "text/x-python",
   "name": "python",
   "nbconvert_exporter": "python",
   "pygments_lexer": "ipython3",
   "version": "3.12.2"
  }
 },
 "nbformat": 4,
 "nbformat_minor": 5
}
