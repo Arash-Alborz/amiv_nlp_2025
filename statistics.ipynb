{
 "cells": [
  {
   "cell_type": "code",
   "execution_count": null,
   "id": "70832b19",
   "metadata": {},
   "outputs": [],
   "source": [
    "\n",
    "import json\n",
    "import pandas as pd\n",
    "\n",
    "# Step 1: Load your JSON\n",
    "with open(\"/Users/megz/Desktop/uni/MA - DTA/S2/Natural Language Processing/Shared task/filtered_pandora.json\", \"r\", encoding=\"utf-8\") as f:\n",
    "    data = json.load(f)\n",
    "\n",
    "# Step 2: Extract and flatten the authors list\n",
    "flattened = []\n",
    "for author in data[\"authors\"]:\n",
    "    row = {\n",
    "        \"id\": author[\"id\"],\n",
    "        **author[\"labels\"],  # spread labels into columns\n",
    "        \"comments\": \" ||| \".join(author[\"comments\"])  # join comments with separator\n",
    "    }\n",
    "    flattened.append(row)\n",
    "\n",
    "# Step 3: Create a DataFrame\n",
    "df = pd.DataFrame(flattened)\n",
    "\n",
    "# Step 4: Save to CSV\n",
    "df.to_csv(\"authors_flat.csv\", index=False)"
   ]
  },
  {
   "cell_type": "code",
   "execution_count": null,
   "id": "5c51e335",
   "metadata": {},
   "outputs": [],
   "source": [
    "len(df['comments'][2].split('.'))\n",
    "df.head()"
   ]
  }
 ],
 "metadata": {
  "kernelspec": {
   "display_name": "amiv_nlp_2025_env",
   "language": "python",
   "name": "python3"
  },
  "language_info": {
   "name": "python",
   "version": "3.9.21"
  }
 },
 "nbformat": 4,
 "nbformat_minor": 5
}
