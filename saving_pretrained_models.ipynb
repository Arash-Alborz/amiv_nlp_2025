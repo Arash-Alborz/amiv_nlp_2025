{
 "cells": [
  {
   "cell_type": "markdown",
   "id": "c70b76a4",
   "metadata": {},
   "source": [
    "## Saving the final all_trait_predictor for the HuggingFace classifier"
   ]
  },
  {
   "cell_type": "code",
   "execution_count": 4,
   "id": "56fd52ba",
   "metadata": {},
   "outputs": [
    {
     "name": "stdout",
     "output_type": "stream",
     "text": [
      "Training model for Openness...\n",
      "Training model for Conscientiousness...\n",
      "Training model for Extraversion...\n",
      "Training model for Agreeableness...\n",
      "Training model for Emotional stability...\n",
      "\n",
      "All models and scaler saved in 'models/' folder.\n"
     ]
    }
   ],
   "source": [
    "'''\n",
    ">>> Script for freezing the weights of the random forest for the final classification of each trait.\n",
    ">>> Each trait is predicted separately, due to skewed label distribution and the \n",
    "huge difference between traits, especially in training and validation set, different \n",
    "hyperparameters has been set for each random forest classifier, so the best prediction \n",
    "for each trait is guaranteed.\n",
    ">>> This procedure serves the purpose of adapting the project for predicting personality traits\n",
    "in job interview scenarios.\n",
    "\n",
    "'''\n",
    "\n",
    "import os\n",
    "import pandas as pd\n",
    "import joblib\n",
    "from sklearn.preprocessing import StandardScaler\n",
    "from sklearn.ensemble import RandomForestClassifier\n",
    "\n",
    "train_path = \"/Users/arashalborz/Desktop/amiv_nlp_2025/processed_data/train/comb_train_liwc_embed.csv\"\n",
    "val_path = \"/Users/arashalborz/Desktop/amiv_nlp_2025/processed_data/validation/comb_val_liwc_embed.csv\"\n",
    "output_dir = \"models\"\n",
    "os.makedirs(output_dir, exist_ok=True)\n",
    "\n",
    "train_df = pd.read_csv(train_path)\n",
    "val_df = pd.read_csv(val_path)\n",
    "\n",
    "feature_cols = [col for col in train_df.columns if col.startswith(\"embed_\") or col.startswith(\"liwc_\")]\n",
    "feature_cols = [col for col in feature_cols if col in val_df.columns]\n",
    "\n",
    "# traits to classify\n",
    "traits = [\"Openness\", \"Conscientiousness\", \"Extraversion\", \"Agreeableness\", \"Emotional stability\"]\n",
    "\n",
    "# trait-specific hyperparameters\n",
    "trait_params = {\n",
    "    \"Openness\": {\"n_estimators\": 14, \"max_depth\": 30},\n",
    "    \"Conscientiousness\": {\"n_estimators\": 20, \"max_depth\": None},\n",
    "    \"Extraversion\": {\"n_estimators\": 80, \"max_depth\": 30},\n",
    "    \"Agreeableness\": {\"n_estimators\": 10, \"max_depth\": 12},\n",
    "    \"Emotional stability\": {\"n_estimators\": 50, \"max_depth\": 7},\n",
    "}\n",
    "\n",
    "# scaling \n",
    "X_train = train_df[feature_cols].values\n",
    "scaler = StandardScaler()\n",
    "X_train_scaled = scaler.fit_transform(X_train)\n",
    "joblib.dump(scaler, os.path.join(output_dir, \"feature_scaler.pkl\"))\n",
    "\n",
    "# === Train and save model for each trait ===\n",
    "for trait in traits:\n",
    "    print(f\"Training model for {trait}...\")\n",
    "\n",
    "    y_train = train_df[trait].values\n",
    "    params = trait_params[trait]\n",
    "\n",
    "    clf = RandomForestClassifier(\n",
    "        n_estimators=params[\"n_estimators\"],\n",
    "        max_depth=params[\"max_depth\"],\n",
    "        random_state=42,\n",
    "        n_jobs=-1\n",
    "    )\n",
    "    clf.fit(X_train_scaled, y_train)\n",
    "\n",
    "    trait_filename = trait.lower().replace(\" \", \"_\") + \"_classifier.pkl\"\n",
    "    joblib.dump(clf, os.path.join(output_dir, trait_filename))\n",
    "\n",
    "print(\"\\nAll models and scaler saved in 'models/' folder.\")"
   ]
  }
 ],
 "metadata": {
  "kernelspec": {
   "display_name": "amiv_nlp_2025",
   "language": "python",
   "name": "python3"
  },
  "language_info": {
   "codemirror_mode": {
    "name": "ipython",
    "version": 3
   },
   "file_extension": ".py",
   "mimetype": "text/x-python",
   "name": "python",
   "nbconvert_exporter": "python",
   "pygments_lexer": "ipython3",
   "version": "3.9.21"
  }
 },
 "nbformat": 4,
 "nbformat_minor": 5
}
