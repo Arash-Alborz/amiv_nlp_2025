{
 "cells": [
  {
   "cell_type": "code",
   "execution_count": 2,
   "id": "68d8f7c4",
   "metadata": {},
   "outputs": [
    {
     "name": "stdout",
     "output_type": "stream",
     "text": [
      "\n",
      "Classification report for Agreeableness (No Resampling):\n",
      "Accuracy: 0.5000\n",
      "F1 (macro): 0.3456\n",
      "              precision    recall  f1-score   support\n",
      "\n",
      "        high       0.67      0.70      0.68        20\n",
      "         low       0.50      0.12      0.20         8\n",
      "      medium       0.11      0.25      0.15         4\n",
      "\n",
      "    accuracy                           0.50        32\n",
      "   macro avg       0.43      0.36      0.35        32\n",
      "weighted avg       0.56      0.50      0.50        32\n",
      "\n"
     ]
    },
    {
     "data": {
      "text/plain": [
       "['models/scaler.pkl']"
      ]
     },
     "execution_count": 2,
     "metadata": {},
     "output_type": "execute_result"
    }
   ],
   "source": [
    "import pandas as pd\n",
    "from sklearn.ensemble import RandomForestClassifier\n",
    "from sklearn.preprocessing import StandardScaler\n",
    "from sklearn.metrics import accuracy_score, f1_score, classification_report\n",
    "import joblib\n",
    "\n",
    "\n",
    "# Load data\n",
    "train_df = pd.read_csv(\"/Users/arashalborz/Desktop/amiv_nlp_2025/processed_data/train/comb_train_liwc_embed.csv\")\n",
    "val_df = pd.read_csv(\"/Users/arashalborz/Desktop/amiv_nlp_2025/processed_data/validation/comb_val_liwc_embed.csv\")\n",
    "\n",
    "# Select features\n",
    "feature_cols = [col for col in train_df.columns if col.startswith(\"embed_\") or col.startswith(\"liwc_\")]\n",
    "X_train = train_df[feature_cols].values\n",
    "X_val = val_df[feature_cols].values\n",
    "\n",
    "# Labels for Agreeableness\n",
    "y_train = train_df[\"Openness\"].values\n",
    "y_val = val_df[\"Openness\"].values\n",
    "\n",
    "# Scale features\n",
    "scaler = StandardScaler()\n",
    "X_train_scaled = scaler.fit_transform(X_train)\n",
    "X_val_scaled = scaler.transform(X_val)\n",
    "\n",
    "# Train classifier (no resampling)\n",
    "clf = RandomForestClassifier(n_estimators=10, random_state=42, n_jobs=-1)\n",
    "clf.fit(X_train_scaled, y_train)\n",
    "\n",
    "# Predict and evaluate\n",
    "y_pred = clf.predict(X_val_scaled)\n",
    "\n",
    "print(\"\\nClassification report for Agreeableness (No Resampling):\")\n",
    "print(f\"Accuracy: {accuracy_score(y_val, y_pred):.4f}\")\n",
    "print(f\"F1 (macro): {f1_score(y_val, y_pred, average='macro'):.4f}\")\n",
    "print(classification_report(y_val, y_pred, zero_division=0))\n",
    "\n",
    "\n",
    "joblib.dump(clf, \"models/openness_rf.pkl\")\n",
    "\n",
    "joblib.dump(scaler, \"models/scaler.pkl\")"
   ]
  },
  {
   "cell_type": "markdown",
   "id": "c70b76a4",
   "metadata": {},
   "source": [
    "## Saving the final all_trait_predictor for the HuggingFace classifier"
   ]
  },
  {
   "cell_type": "code",
   "execution_count": 3,
   "id": "56fd52ba",
   "metadata": {},
   "outputs": [
    {
     "name": "stdout",
     "output_type": "stream",
     "text": [
      "Training classifier for Openness...\n",
      "Training classifier for Conscientiousness...\n",
      "Training classifier for Extraversion...\n",
      "Training classifier for Agreeableness...\n",
      "Training classifier for Emotional stability...\n",
      "All classifiers and scaler saved.\n"
     ]
    }
   ],
   "source": [
    "import pandas as pd\n",
    "from sklearn.preprocessing import StandardScaler\n",
    "from sklearn.ensemble import RandomForestClassifier, GradientBoostingClassifier, VotingClassifier\n",
    "from sklearn.neural_network import MLPClassifier\n",
    "from sklearn.svm import SVC\n",
    "import joblib\n",
    "\n",
    "train_df = pd.read_csv(\"processed_data/train/comb_train_liwc_embed.csv\")\n",
    "\n",
    "# === Define columns and traits ===\n",
    "feature_cols = [col for col in train_df.columns if col.startswith(\"embed_\") or col.startswith(\"liwc_\")]\n",
    "traits = [\"Openness\", \"Conscientiousness\", \"Extraversion\", \"Agreeableness\", \"Emotional stability\"]\n",
    "\n",
    "# === Scale features ===\n",
    "X_train = train_df[feature_cols].values\n",
    "scaler = StandardScaler()\n",
    "X_train_scaled = scaler.fit_transform(X_train)\n",
    "\n",
    "# === Define classifiers ===\n",
    "rf = RandomForestClassifier(n_estimators=100, random_state=42, n_jobs=-1, class_weight=\"balanced\")\n",
    "gb = GradientBoostingClassifier(n_estimators=100, learning_rate=0.1, random_state=42)\n",
    "mlp = MLPClassifier(hidden_layer_sizes=(100,), max_iter=300, random_state=42)\n",
    "svm = SVC(kernel=\"linear\", C=1.0, probability=True, random_state=42, class_weight=\"balanced\")\n",
    "\n",
    "# === Train one classifier per trait and save ===\n",
    "for trait in traits:\n",
    "    print(f\"Training classifier for {trait}...\")\n",
    "\n",
    "    y_train = train_df[trait].values\n",
    "    ensemble = VotingClassifier(\n",
    "        estimators=[('rf', rf), ('gb', gb), ('mlp', mlp), ('svm', svm)],\n",
    "        voting='soft',\n",
    "        n_jobs=-1\n",
    "    )\n",
    "\n",
    "    ensemble.fit(X_train_scaled, y_train)\n",
    "\n",
    "    # Save classifier\n",
    "    joblib.dump(ensemble, f\"models/{trait.lower()}_classifier.pkl\")\n",
    "\n",
    "# Save scaler\n",
    "joblib.dump(scaler, \"models/feature_scaler.pkl\")\n",
    "\n",
    "print(\"All classifiers and scaler saved.\")"
   ]
  }
 ],
 "metadata": {
  "kernelspec": {
   "display_name": "amiv_nlp_2025",
   "language": "python",
   "name": "python3"
  },
  "language_info": {
   "codemirror_mode": {
    "name": "ipython",
    "version": 3
   },
   "file_extension": ".py",
   "mimetype": "text/x-python",
   "name": "python",
   "nbconvert_exporter": "python",
   "pygments_lexer": "ipython3",
   "version": "3.9.21"
  }
 },
 "nbformat": 4,
 "nbformat_minor": 5
}
